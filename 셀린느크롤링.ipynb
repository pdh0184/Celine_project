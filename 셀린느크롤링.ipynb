{
 "cells": [
  {
   "cell_type": "code",
   "execution_count": null,
   "metadata": {},
   "outputs": [],
   "source": [
    "!which python\n",
    "!where python\n",
    "!pip show pandas\n",
    "!export PYTHONPATH=$PYTHONPATH:/opt/anaconda3/bin/python\n",
    "import sys\n",
    "sys.path.append('/opt/anaconda3/lib/python3.12/site-packages')\n"
   ]
  },
  {
   "cell_type": "code",
   "execution_count": 145,
   "metadata": {},
   "outputs": [],
   "source": [
    "from selenium import webdriver\n",
    "from selenium.webdriver.common.by import By\n",
    "from selenium.webdriver.chrome.service import Service\n",
    "from selenium.webdriver.common.keys import Keys\n",
    "import time\n",
    "import random\n",
    "import selenium\n",
    "import pandas as pd"
   ]
  },
  {
   "cell_type": "code",
   "execution_count": 151,
   "metadata": {},
   "outputs": [],
   "source": [
    "\n",
    "# 크롬 드라이버 경로\n",
    "driver_path = r'/Users/apple/Desktop/coding_file/파이썬 크롤링/chromedriver-mac-x64/chromedriver'\n",
    "\n",
    "# Service 객체 생성\n",
    "service = Service(driver_path)\n",
    "\n",
    "# WebDriver 초기화\n",
    "driver = webdriver.Chrome(service=service)\n",
    "\n",
    "# URL 열기\n",
    "URL = \"https://www.celine.com/ko-kr/celine-여성/핸드백/?nav=A003-VIEW-ALL\"\n",
    "driver.get(URL)"
   ]
  },
  {
   "cell_type": "code",
   "execution_count": 152,
   "metadata": {},
   "outputs": [],
   "source": [
    "def infinite_loop():\n",
    "    #스크롤 내리기\n",
    "    # document.documentElement.scrollHeight 반환 => 핸재 페이지의 전체 높이\n",
    "    last_page_height = driver.execute_script(\"return document.documentElement.scrollHeight\")\n",
    "\n",
    "    while True:\n",
    "        #window.scrollTo(x, y) : 윈도우 페이지를 특정 좌표까지 스크롤 / x는 가로축, y는 세로축\n",
    "        driver.execute_script(\"window.scrollTo(0, document.documentElement.scrollHeight);\")\n",
    "        time.sleep(random.uniform(2, 5))\n",
    "        new_page_height = driver.execute_script(\"return document.documentElement.scrollHeight\") #스크롤 한 후 페이지의 높이\n",
    "\n",
    "        if new_page_height == last_page_height: #스크롤 전 페이지높이와 스크롤 후 페이지 높이가 같을 경우 로딩을 한 번 더 기다린 후 그래도 같다면 break\n",
    "            time.sleep(random.uniform(5, 10))\n",
    "            if new_page_height == driver.execute_script(\"return document.documentElement.scrollHeight\"):\n",
    "                break\n",
    "        else:\n",
    "            last_page_height = new_page_height"
   ]
  },
  {
   "cell_type": "code",
   "execution_count": 153,
   "metadata": {},
   "outputs": [],
   "source": [
    "infinite_loop()"
   ]
  },
  {
   "cell_type": "markdown",
   "metadata": {},
   "source": [
    "### 코드 진행시 가격 누락 발생"
   ]
  },
  {
   "cell_type": "code",
   "execution_count": null,
   "metadata": {},
   "outputs": [],
   "source": [
    "'''\n",
    "item_selector = \"a > div > div.m-product-listing__meta > div \"\n",
    "price_selector = \"a > div > div.m-product-listing__meta > p > span > strong\"\n",
    "links_selector = \"#content > div:nth-child(3) > div > div.o-search__wrapper > ul > li > div > a\"\n",
    "img_selector = 'div > div.m-product-listing__img.m-product-listing__img--quick-view > div:nth-child(1) > img' \n",
    "\n",
    "actions = driver.find_element(By.CSS_SELECTOR, 'body')\n",
    "\n",
    "product_name = []\n",
    "price = []\n",
    "href = []\n",
    "img = []\n",
    "\n",
    "def CELINE_crawling():\n",
    "\n",
    "    #상품명\n",
    "    for i in driver.find_elements(By.CSS_SELECTOR, item_selector):\n",
    "        print(\"Product_name :\" , i.text)\n",
    "        product_name.append(i.text)\n",
    "\n",
    "    #상품 가격\n",
    "    for i in driver.find_elements(By.CSS_SELECTOR, price_selector): \n",
    "        print(\"Price :\" , i.text)\n",
    "        price.append(i.text)\n",
    "\n",
    "    #링크\n",
    "    #모든 a 태그 가져오기\n",
    "    \n",
    "    `# href 속성 값 가져오기\n",
    "    for link_element in driver.find_elements(By.CSS_SELECTOR, links_selector):\n",
    "        href_value = link_element.get_attribute('href')\n",
    "        print('href_value :' , href_value)\n",
    "        href.append(href_value)\n",
    "\n",
    "    #이미지 url\n",
    "\n",
    "    # srcset 속성 값 가져오기\n",
    "    # 마우스 hover이 적용되지 않은 가장 해상도가 좋은 이미지 주소 가져오기\n",
    "    for img_element in driver.find_elements(By.CSS_SELECTOR, img_selector):\n",
    "        srcset_value = img_element.get_attribute(\"srcset\")\n",
    "        print(\"img_value : \" ,srcset_value.split(\",\")[-1])\n",
    "        img.append(srcset_value.split(\",\")[-1])\n",
    "\n",
    "    time.sleep(random.uniform(0, 3))`\n",
    "\n",
    "CELINE_crawling()\n",
    "\n",
    "#driver.quit()\n",
    "\n",
    "'''"
   ]
  },
  {
   "cell_type": "markdown",
   "metadata": {},
   "source": [
    "### 제품명, 가격 전부 깔끔하게 나오는 크롤링 코드"
   ]
  },
  {
   "cell_type": "code",
   "execution_count": 159,
   "metadata": {},
   "outputs": [],
   "source": [
    "#이름, 색상, 가격 추출 함수\n",
    "def clean_words(input_str):\n",
    "    punctuation = '.,;:\"“!?_-()[]{}<>@#$%^&*~' #구두점 집합\n",
    "    #punctuation = string.punctuation #구두점 집합\n",
    "    word_list = input_str.lower().split('\\n')\n",
    "    word_list = [word.strip(punctuation) for word in word_list]\n",
    "    if len(word_list) != 3:\n",
    "        word_list = word_list[:3]\n",
    "    return word_list"
   ]
  },
  {
   "cell_type": "code",
   "execution_count": null,
   "metadata": {},
   "outputs": [],
   "source": [
    "item_selector = \"a > div > div.m-product-listing__meta > div \"\n",
    "links_selector = \"#content > div:nth-child(3) > div > div.o-search__wrapper > ul > li > div > a\"\n",
    "img_selector = 'div > div.m-product-listing__img.m-product-listing__img--quick-view > div:nth-child(1) > img' \n",
    "list_selector = '#content > div:nth-child(3) > div > div.o-search__wrapper > ul > li'\n",
    "actions = driver.find_element(By.CSS_SELECTOR, 'body')\n",
    "\n",
    "product_name_list = []\n",
    "price_list = []\n",
    "color_list= []\n",
    "href_list = []\n",
    "img_list = []\n",
    "list_value = []\n",
    "\n",
    "list_selector = '#content > div:nth-child(3) > div > div.o-search__wrapper > ul > li'\n",
    "for i in driver.find_elements(By.CSS_SELECTOR, list_selector):\n",
    "        print(i.text)\n",
    "        info = clean_words(i.text)"
   ]
  },
  {
   "cell_type": "code",
   "execution_count": null,
   "metadata": {},
   "outputs": [],
   "source": [
    "item_selector = \"a > div > div.m-product-listing__meta > div \"\n",
    "links_selector = \"#content > div:nth-child(3) > div > div.o-search__wrapper > ul > li > div > a\"\n",
    "img_selector = 'div > div.m-product-listing__img.m-product-listing__img--quick-view > div:nth-child(1) > img' \n",
    "list_selector = '#content > div:nth-child(3) > div > div.o-search__wrapper > ul > li'\n",
    "actions = driver.find_element(By.CSS_SELECTOR, 'body')\n",
    "\n",
    "product_name_list = []\n",
    "price_list = []\n",
    "color_list= []\n",
    "href_list = []\n",
    "img_list = []\n",
    "list_value = []\n",
    "\n",
    "def CELINE_crawling():\n",
    "\n",
    "    for i in driver.find_elements(By.CSS_SELECTOR, list_selector):\n",
    "        print(i.text)\n",
    "        info = clean_words(i.text)\n",
    "\n",
    "        product_name,color,price = info\n",
    "        product_name_list.append(product_name) \n",
    "        color_list.append(color)\n",
    "        price_list.append(price)\n",
    "        time.sleep(random.uniform(0, 3))\n",
    "    \n",
    "    # href 속성 값 가져오기\n",
    "    for link_element in driver.find_elements(By.CSS_SELECTOR, links_selector):\n",
    "        href_value = link_element.get_attribute('href')\n",
    "        print('href_value :' , href_value)\n",
    "        href_list.append(href_value)\n",
    "        time.sleep(random.uniform(0, 3))\n",
    "\n",
    "    #이미지 url\n",
    "\n",
    "    # srcset 속성 값 가져오기\n",
    "    # 마우스 hover이 적용되지 않은 가장 해상도가 좋은 이미지 주소 가져오기\n",
    "    for img_element in driver.find_elements(By.CSS_SELECTOR, img_selector):\n",
    "        srcset_value = img_element.get_attribute(\"srcset\")\n",
    "        print(\"img_value : \" ,srcset_value.split(\",\")[-1])\n",
    "        img_list.append(srcset_value.split(\",\")[-1])\n",
    "        time.sleep(random.uniform(0, 3))\n",
    "    \n",
    "\n",
    "CELINE_crawling()\n",
    "\n",
    "driver.quit()\n"
   ]
  },
  {
   "cell_type": "code",
   "execution_count": 141,
   "metadata": {},
   "outputs": [
    {
     "name": "stdout",
     "output_type": "stream",
     "text": [
      "196\n",
      "196\n",
      "196\n",
      "196\n",
      "196\n"
     ]
    }
   ],
   "source": [
    "Value_List = [product_name_list,price_list,color_list,href_list,img_list]\n",
    "for i in Value_List:\n",
    "    print(len(i))\n",
    "        "
   ]
  },
  {
   "cell_type": "code",
   "execution_count": null,
   "metadata": {},
   "outputs": [],
   "source": [
    "# df = pd.DataFrame({\n",
    "#     '제품명': product_name,\n",
    "#     '가격': price_list,\n",
    "#     '상세 주소': href_list,\n",
    "#     '이미지 주소': img_list})\n",
    "from itertools import zip_longest\n",
    "import numpy as np\n",
    "# 길이가 가장 긴 배열의 길이에 맞춰 NaN을 채워줍니다\n",
    "max_length = max(len(product_name_list), len(price_list), len(href_list), len(img_list))\n",
    "\n",
    "# 각 리스트를 최대 길이에 맞추기 (길이가 짧으면 NaN으로 채우기)\n",
    "product_name_list.extend([np.nan] * (max_length - len(product_name_list)))\n",
    "price_list.extend([np.nan] * (max_length - len(price_list)))\n",
    "color_list.extend([np.nan] * (max_length - len(color_list)))\n",
    "href_list.extend([np.nan] * (max_length - len(href_list)))\n",
    "img_list.extend([np.nan] * (max_length - len(img_list)))\n",
    "\n",
    "data = {\n",
    "    '제품명': list(zip_longest(product_name_list, fillvalue=None)),\n",
    "    '가격': list(zip_longest(price_list, fillvalue=None)),\n",
    "    '색상' :  list(zip_longest(color_list, fillvalue=None)),\n",
    "    '상세 주소': list(zip_longest(href_list, fillvalue=None)),\n",
    "    '이미지 주소': list(zip_longest(img_list, fillvalue=None)),\n",
    "}\n",
    "\n",
    "df = pd.DataFrame(data)\n",
    "print(df)\n",
    "# 전체 출력 설정\n",
    "pd.set_option('display.max_rows', None)  # 모든 행 출력\n",
    "pd.set_option('display.max_columns', None)  # 모든 열 출력\n",
    "df['제품명'] = '틴트리옹백'"
   ]
  },
  {
   "cell_type": "markdown",
   "metadata": {},
   "source": []
  },
  {
   "cell_type": "code",
   "execution_count": null,
   "metadata": {},
   "outputs": [],
   "source": [
    "df"
   ]
  },
  {
   "cell_type": "code",
   "execution_count": null,
   "metadata": {},
   "outputs": [],
   "source": []
  }
 ],
 "metadata": {
  "kernelspec": {
   "display_name": "base",
   "language": "python",
   "name": "python3"
  },
  "language_info": {
   "codemirror_mode": {
    "name": "ipython",
    "version": 3
   },
   "file_extension": ".py",
   "mimetype": "text/x-python",
   "name": "python",
   "nbconvert_exporter": "python",
   "pygments_lexer": "ipython3",
   "version": "3.12.2"
  }
 },
 "nbformat": 4,
 "nbformat_minor": 2
}
