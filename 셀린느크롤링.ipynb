{
 "cells": [
  {
   "cell_type": "markdown",
   "metadata": {},
   "source": [
    "### 버전 확인 및 패키지 설치"
   ]
  },
  {
   "cell_type": "code",
   "execution_count": null,
   "metadata": {},
   "outputs": [],
   "source": [
    "!which python\n",
    "!where python\n",
    "!pip show pandas\n",
    "!export PYTHONPATH=$PYTHONPATH:/opt/anaconda3/bin/python\n",
    "import sys\n",
    "sys.path.append('/opt/anaconda3/lib/python3.12/site-packages')\n",
    "\n"
   ]
  },
  {
   "cell_type": "code",
   "execution_count": null,
   "metadata": {},
   "outputs": [],
   "source": [
    "from selenium import webdriver\n",
    "from selenium.webdriver.common.by import By\n",
    "from selenium.webdriver.chrome.service import Service\n",
    "from selenium.webdriver.common.keys import Keys\n",
    "import time\n",
    "import random\n",
    "import selenium\n",
    "import pandas as pd\n",
    "\n",
    "# 전체 출력 설정\n",
    "pd.set_option('display.max_rows', None)  # 모든 행 출력\n",
    "pd.set_option('display.max_columns', None)  # 모든 열 출력"
   ]
  },
  {
   "cell_type": "markdown",
   "metadata": {},
   "source": [
    "### 셀레니움 드라이버 생성"
   ]
  },
  {
   "cell_type": "code",
   "execution_count": null,
   "metadata": {},
   "outputs": [],
   "source": [
    "\n",
    "# 크롬 드라이버 경로\n",
    "driver_path = r'/Users/apple/Desktop/coding_file/파이썬 크롤링/chromedriver-mac-x64/chromedriver'\n",
    "\n",
    "# Service 객체 생성\n",
    "service = Service(driver_path)\n",
    "\n",
    "# WebDriver 초기화\n",
    "driver = webdriver.Chrome(service=service)\n",
    "\n",
    "# URL 열기\n",
    "URL = \"https://www.celine.com/ko-kr/celine-여성/핸드백/?nav=A003-VIEW-ALL\"\n",
    "driver.get(URL)"
   ]
  },
  {
   "cell_type": "markdown",
   "metadata": {},
   "source": [
    "### 무한 스크롤\n",
    "- 스크롤 이전, 이후 페이지 높이가 같으면 스크롤 멈춤"
   ]
  },
  {
   "cell_type": "code",
   "execution_count": null,
   "metadata": {},
   "outputs": [],
   "source": [
    "def infinite_loop():\n",
    "    #스크롤 내리기\n",
    "    # document.documentElement.scrollHeight 반환 => 핸재 페이지의 전체 높이\n",
    "    last_page_height = driver.execute_script(\"return document.documentElement.scrollHeight\")\n",
    "\n",
    "    while True:\n",
    "        #window.scrollTo(x, y) : 윈도우 페이지를 특정 좌표까지 스크롤 / x는 가로축, y는 세로축\n",
    "        driver.execute_script(\"window.scrollTo(0, document.documentElement.scrollHeight);\")\n",
    "        time.sleep(random.uniform(2, 5))\n",
    "        new_page_height = driver.execute_script(\"return document.documentElement.scrollHeight\") #스크롤 한 후 페이지의 높이\n",
    "\n",
    "        if new_page_height == last_page_height: #스크롤 전 페이지높이와 스크롤 후 페이지 높이가 같을 경우 로딩을 한 번 더 기다린 후 그래도 같다면 break\n",
    "            time.sleep(random.uniform(5, 10))\n",
    "            if new_page_height == driver.execute_script(\"return document.documentElement.scrollHeight\"):\n",
    "                break\n",
    "        else:\n",
    "            last_page_height = new_page_height"
   ]
  },
  {
   "cell_type": "code",
   "execution_count": null,
   "metadata": {},
   "outputs": [],
   "source": [
    "infinite_loop()"
   ]
  },
  {
   "cell_type": "markdown",
   "metadata": {},
   "source": [
    "### 코드 진행시 가격 누락 발생\n",
    "- 코드 진행 시 일부 가격 누락이 발생하여 다른 코드로 크롤링"
   ]
  },
  {
   "cell_type": "code",
   "execution_count": null,
   "metadata": {},
   "outputs": [],
   "source": [
    "'''\n",
    "item_selector = \"a > div > div.m-product-listing__meta > div \"\n",
    "price_selector = \"a > div > div.m-product-listing__meta > p > span > strong\"\n",
    "links_selector = \"#content > div:nth-child(3) > div > div.o-search__wrapper > ul > li > div > a\"\n",
    "img_selector = 'div > div.m-product-listing__img.m-product-listing__img--quick-view > div:nth-child(1) > img' \n",
    "\n",
    "actions = driver.find_element(By.CSS_SELECTOR, 'body')\n",
    "\n",
    "product_name = []\n",
    "price = []\n",
    "href = []\n",
    "img = []\n",
    "\n",
    "def CELINE_crawling():\n",
    "\n",
    "    #상품명\n",
    "    for i in driver.find_elements(By.CSS_SELECTOR, item_selector):\n",
    "        print(\"Product_name :\" , i.text)\n",
    "        product_name.append(i.text)\n",
    "\n",
    "    #상품 가격\n",
    "    for i in driver.find_elements(By.CSS_SELECTOR, price_selector): \n",
    "        print(\"Price :\" , i.text)\n",
    "        price.append(i.text)\n",
    "\n",
    "    #링크\n",
    "    #모든 a 태그 가져오기\n",
    "    \n",
    "    `# href 속성 값 가져오기\n",
    "    for link_element in driver.find_elements(By.CSS_SELECTOR, links_selector):\n",
    "        href_value = link_element.get_attribute('href')\n",
    "        print('href_value :' , href_value)\n",
    "        href.append(href_value)\n",
    "\n",
    "    #이미지 url\n",
    "\n",
    "    # srcset 속성 값 가져오기\n",
    "    # 마우스 hover이 적용되지 않은 가장 해상도가 좋은 이미지 주소 가져오기\n",
    "    for img_element in driver.find_elements(By.CSS_SELECTOR, img_selector):\n",
    "        srcset_value = img_element.get_attribute(\"srcset\")\n",
    "        print(\"img_value : \" ,srcset_value.split(\",\")[-1])\n",
    "        img.append(srcset_value.split(\",\")[-1])\n",
    "\n",
    "    time.sleep(random.uniform(0, 3))`\n",
    "\n",
    "CELINE_crawling()\n",
    "\n",
    "#driver.quit()\n",
    "\n",
    "'''"
   ]
  },
  {
   "cell_type": "markdown",
   "metadata": {},
   "source": [
    "### 제품명, 가격 전부 깔끔하게 나오는 크롤링 코드"
   ]
  },
  {
   "cell_type": "code",
   "execution_count": null,
   "metadata": {},
   "outputs": [],
   "source": [
    "#이름, 색상, 가격 추출 함수\n",
    "def clean_words(input_str):\n",
    "    punctuation = '.,;:\"“!?_-()[]{}<>@#$%^&*~' #구두점 집합\n",
    "    #punctuation = string.punctuation #구두점 집합\n",
    "    word_list = input_str.lower().split('\\n')\n",
    "    word_list = [word.strip(punctuation) for word in word_list]\n",
    "    if len(word_list) != 3:\n",
    "        word_list = word_list[:3]\n",
    "    return word_list"
   ]
  },
  {
   "cell_type": "code",
   "execution_count": null,
   "metadata": {},
   "outputs": [],
   "source": [
    "item_selector = \"a > div > div.m-product-listing__meta > div \"\n",
    "links_selector = \"#content > div:nth-child(3) > div > div.o-search__wrapper > ul > li > div > a\"\n",
    "img_selector = 'div > div.m-product-listing__img.m-product-listing__img--quick-view > div:nth-child(1) > img' \n",
    "list_selector = '#content > div:nth-child(3) > div > div.o-search__wrapper > ul > li'\n",
    "actions = driver.find_element(By.CSS_SELECTOR, 'body')\n",
    "\n",
    "product_name_list = []\n",
    "price_list = []\n",
    "color_list= []\n",
    "href_list = []\n",
    "img_list = []\n",
    "list_value = []\n",
    "\n",
    "def CELINE_crawling():\n",
    "\n",
    "    for i in driver.find_elements(By.CSS_SELECTOR, list_selector):\n",
    "        print(i.text)\n",
    "        info = clean_words(i.text)\n",
    "\n",
    "        product_name,color,price = info\n",
    "        product_name_list.append(product_name) \n",
    "        color_list.append(color)\n",
    "        price_list.append(price)\n",
    "        time.sleep(random.uniform(0, 3))\n",
    "    \n",
    "    # href 속성 값 가져오기\n",
    "    for link_element in driver.find_elements(By.CSS_SELECTOR, links_selector):\n",
    "        href_value = link_element.get_attribute('href')\n",
    "        print('href_value :' , href_value)\n",
    "        href_list.append(href_value)\n",
    "        time.sleep(random.uniform(0, 3))\n",
    "\n",
    "    #이미지 url\n",
    "\n",
    "    # srcset 속성 값 가져오기\n",
    "    # 마우스 hover이 적용되지 않은 가장 해상도가 좋은 이미지 주소 가져오기\n",
    "    for img_element in driver.find_elements(By.CSS_SELECTOR, img_selector):\n",
    "        srcset_value = img_element.get_attribute(\"srcset\")\n",
    "        print(\"img_value : \" ,srcset_value.split(\",\")[-1])\n",
    "        img_list.append(srcset_value.split(\",\")[-1])\n",
    "        time.sleep(random.uniform(0, 3))\n",
    "    \n",
    "\n",
    "CELINE_crawling()\n",
    "\n",
    "driver.quit()\n"
   ]
  },
  {
   "cell_type": "code",
   "execution_count": null,
   "metadata": {},
   "outputs": [],
   "source": [
    "#모든 리스트가 똑같이 크롤링 됐는지 확인\n",
    "Value_List = [product_name_list,price_list,color_list,href_list,img_list]\n",
    "for i in Value_List:\n",
    "    print(len(i))\n",
    "        "
   ]
  },
  {
   "cell_type": "markdown",
   "metadata": {},
   "source": [
    "주소 문자열만 추출"
   ]
  },
  {
   "cell_type": "code",
   "execution_count": null,
   "metadata": {},
   "outputs": [],
   "source": [
    "for img in img_list:\n",
    "    print(img[:-6])"
   ]
  },
  {
   "cell_type": "markdown",
   "metadata": {},
   "source": [
    "## 데이터 프레임 생성"
   ]
  },
  {
   "cell_type": "code",
   "execution_count": null,
   "metadata": {},
   "outputs": [],
   "source": [
    "data = {\n",
    "    \"제품명\": product_name_list,\n",
    "    \"가격\": price_list,\n",
    "    \"색깔\": color_list,\n",
    "    \"상세주소\": href_list,\n",
    "    \"이미지 주소\": img_list\n",
    "}\n",
    "\n",
    "df = pd.DataFrame(data)\n",
    "\n",
    "# 데이터프레임 출력\n",
    "print(df)"
   ]
  },
  {
   "cell_type": "markdown",
   "metadata": {},
   "source": [
    "# 저장"
   ]
  },
  {
   "cell_type": "code",
   "execution_count": 56,
   "metadata": {},
   "outputs": [],
   "source": [
    "df.to_csv(\"CELINE.csv\", index=False)"
   ]
  },
  {
   "cell_type": "markdown",
   "metadata": {},
   "source": [
    "### 이후 주소를 통해 이미지 로딩 및 인코딩은 코랩 환경에서 진행"
   ]
  },
  {
   "cell_type": "code",
   "execution_count": null,
   "metadata": {},
   "outputs": [],
   "source": []
  }
 ],
 "metadata": {
  "kernelspec": {
   "display_name": "base",
   "language": "python",
   "name": "python3"
  },
  "language_info": {
   "codemirror_mode": {
    "name": "ipython",
    "version": 3
   },
   "file_extension": ".py",
   "mimetype": "text/x-python",
   "name": "python",
   "nbconvert_exporter": "python",
   "pygments_lexer": "ipython3",
   "version": "3.12.2"
  }
 },
 "nbformat": 4,
 "nbformat_minor": 2
}
