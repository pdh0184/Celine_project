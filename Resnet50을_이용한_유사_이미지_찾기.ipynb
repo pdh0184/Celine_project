{
  "cells": [
    {
      "cell_type": "markdown",
      "metadata": {
        "id": "view-in-github",
        "colab_type": "text"
      },
      "source": [
        "<a href=\"https://colab.research.google.com/github/pdh0184/Celine_project/blob/main/Resnet50%EC%9D%84_%EC%9D%B4%EC%9A%A9%ED%95%9C_%EC%9C%A0%EC%82%AC_%EC%9D%B4%EB%AF%B8%EC%A7%80_%EC%B0%BE%EA%B8%B0.ipynb\" target=\"_parent\"><img src=\"https://colab.research.google.com/assets/colab-badge.svg\" alt=\"Open In Colab\"/></a>"
      ]
    },
    {
      "cell_type": "code",
      "execution_count": null,
      "metadata": {
        "id": "I0XecYDzA_Oz"
      },
      "outputs": [],
      "source": [
        "!pip install faiss-gpu"
      ]
    },
    {
      "cell_type": "code",
      "execution_count": null,
      "metadata": {
        "id": "qMtGeELC9k6x"
      },
      "outputs": [],
      "source": [
        "import pandas as pd\n",
        "import base64\n",
        "from PIL import Image\n",
        "from io import BytesIO\n",
        "import numpy as np\n",
        "import cv2\n",
        "import matplotlib.pyplot as plt\n",
        "import faiss\n",
        "import torch\n",
        "import torchvision.models as models\n",
        "import torchvision.transforms as transforms\n",
        "from google.colab.patches import cv2_imshow  # Colab에서 cv2.imshow() 대신 사용\n",
        "\n",
        "df = pd.read_csv('/content/drive/MyDrive/개인 프로젝트 파일/Celine_project/CELINE_DATA.csv')\n",
        "df.head()"
      ]
    },
    {
      "cell_type": "code",
      "execution_count": null,
      "metadata": {
        "id": "x7PnkjCxM86m"
      },
      "outputs": [],
      "source": [
        "df.shape"
      ]
    },
    {
      "cell_type": "markdown",
      "source": [
        "### 이미지 디코딩\n",
        "- Base64 데이터 디코딩 후 img_list에 추가\n"
      ],
      "metadata": {
        "id": "dQC7dRiBzDga"
      }
    },
    {
      "cell_type": "code",
      "execution_count": null,
      "metadata": {
        "collapsed": true,
        "id": "CJzn4BxrAu0r"
      },
      "outputs": [],
      "source": [
        "img_list = []\n",
        "\n",
        "for index, row in df.iterrows():\n",
        "\n",
        "  image_str64 = row['이미지 데이터']\n",
        "  try:\n",
        "    image_data = base64.b64decode(image_str64)\n",
        "    img_out = Image.open(BytesIO(image_data))\n",
        "    img_list.append(img_out)\n",
        "\n",
        "  except Exception as e:\n",
        "    print(f\"Error decoding image data for index {index}: {e}\")\n",
        "    img_list.append(None)\n",
        "    continue\n",
        "\n",
        ""
      ]
    },
    {
      "cell_type": "markdown",
      "metadata": {
        "id": "fqT7nMxh_ebq"
      },
      "source": [
        "### 비슷한 이미지 조회\n",
        "- FAISS 사용\n",
        "  - 모든 벡터를 메모리에 저장하고, 검색 시 전체 벡터를 비교하는 방식\n",
        "  - 단순하고 직관적이지만, 데이터가 많을 때 속도가 느려질 수 있다\n",
        "  - 작은 데이터셋에서는 매우 효율적입니다."
      ]
    },
    {
      "cell_type": "markdown",
      "source": [
        "## ResNet 가져오기\n",
        "- 이미지의 특징을 추출해야하기 때문에 마지막 층은 제거하고 사용한다"
      ],
      "metadata": {
        "id": "2o8ldxdXzP2J"
      }
    },
    {
      "cell_type": "code",
      "execution_count": null,
      "metadata": {
        "id": "CbMO7T6zEZS0"
      },
      "outputs": [],
      "source": [
        "import faiss\n",
        "import numpy as np\n",
        "import torch\n",
        "import torchvision.models as models\n",
        "import torchvision.transforms as transforms\n",
        "import torch.nn as nn\n",
        "from PIL import Image\n",
        "\n",
        "# 사전 훈련된 모델 로드 (ResNet50 사용) , 가장 빠르고 성능도 좋음\n",
        "\n",
        "# Pre-trained ResNet 모델 불러오기\n",
        "model = models.resnet50(pretrained=True)\n",
        "\n",
        "# ResNet50에서 마지막 classification layer를 제거합니다.\n",
        "modules = list(model.children())[:-1]\n",
        "model = nn.Sequential(*modules)\n",
        "\n",
        "# 학습된 모델을 evaluation mode로 설정합니다.\n",
        "model.eval()\n"
      ]
    },
    {
      "cell_type": "code",
      "execution_count": null,
      "metadata": {
        "id": "DVwe-_NAEcpG"
      },
      "outputs": [],
      "source": [
        "\n",
        "# 이미지 전처리 함수\n",
        "def preprocess_image(image_data):\n",
        "    img = Image.open(image_data)\n",
        "    transform = transforms.Compose([\n",
        "        transforms.Resize(256),\n",
        "        transforms.CenterCrop(224),\n",
        "        transforms.ToTensor(),\n",
        "        transforms.Normalize(mean=[0.485, 0.456, 0.406], std=[0.229, 0.224, 0.225]),\n",
        "    ])\n",
        "    img_tensor = transform(img).unsqueeze(0)\n",
        "    print(img_tensor.shape)\n",
        "    return img_tensor\n"
      ]
    },
    {
      "cell_type": "code",
      "execution_count": null,
      "metadata": {
        "id": "CfMH5HtnEcmf"
      },
      "outputs": [],
      "source": [
        "# 이미지 특징 추출 함수\n",
        "def extract_features(image_data):\n",
        "    img_tensor = preprocess_image(image_data)\n",
        "    with torch.no_grad():\n",
        "        features = model(img_tensor)\n",
        "    return features.numpy().flatten()\n"
      ]
    },
    {
      "cell_type": "code",
      "execution_count": null,
      "metadata": {
        "id": "ySGV67UOEcjG"
      },
      "outputs": [],
      "source": [
        "# 모든 이미지에 대해 특징 벡터 추출\n",
        "zero_array = np.zeros(2048)\n",
        "features_list = []\n",
        "\n",
        "for index, row in df.iterrows():\n",
        "    image_str64 = row['이미지 데이터']\n",
        "    try:\n",
        "        image_data = BytesIO(base64.b64decode(image_str64))\n",
        "        features = np.array(extract_features(image_data))\n",
        "        print(features.shape)\n",
        "        features_list.append(features)\n",
        "    except Exception as e:\n",
        "        print(f\"Error decoding image data for index {index}: {e}\")\n",
        "        features_list.append(zero_array)\n",
        "\n"
      ]
    },
    {
      "cell_type": "code",
      "execution_count": null,
      "metadata": {
        "id": "TzC5n3p2Ecc-"
      },
      "outputs": [],
      "source": [
        "# 특징 벡터 리스트를 NumPy 배열로 변환\n",
        "features_array = np.array(features_list, dtype=np.float32)\n",
        "print(features_array[0].shape)\n",
        "print(features_array[160].shape)"
      ]
    },
    {
      "cell_type": "code",
      "execution_count": null,
      "metadata": {
        "id": "HtZoEZfCSh5J"
      },
      "outputs": [],
      "source": [
        "features_array.shape"
      ]
    },
    {
      "cell_type": "code",
      "execution_count": null,
      "metadata": {
        "id": "80FozE5CGtkG"
      },
      "outputs": [],
      "source": [
        "# FAISS 인덱스 생성 (L2 거리 사용)\n",
        "index = faiss.IndexFlatL2(features_array.shape[1])\n",
        "print('차원 수 :',index.d)\n",
        "print('현재 인덱스에 추가된 벡터의 총 개수:',index.ntotal)"
      ]
    },
    {
      "cell_type": "code",
      "execution_count": null,
      "metadata": {
        "id": "GpR3qzb6HcDJ"
      },
      "outputs": [],
      "source": [
        "# 특징 벡터를 인덱스에 추가\n",
        "index.add(features_array)\n",
        "print(index.ntotal)"
      ]
    },
    {
      "cell_type": "markdown",
      "metadata": {
        "id": "GpP5lWoKHSMX"
      },
      "source": [
        "### FAISS 에서 이미지 간 유사도 계산으로 유사 제품 검색"
      ]
    },
    {
      "cell_type": "code",
      "execution_count": null,
      "metadata": {
        "id": "VtXowmfZHR9R"
      },
      "outputs": [],
      "source": [
        "# 이미지 간 유사도 계산\n",
        "D, I = index.search(features_array, k=11)  # 각 이미지에 대해 가장 유사한 10개 검색\n",
        "print(\"Distances:\", D)\n",
        "print(\"Indices:\", I)\n"
      ]
    },
    {
      "cell_type": "code",
      "source": [
        "input_product = int(input(\"제품 번호 입력\") )#원하는 이미지 선택 시 해당 되는 인덱스 번호가 있다고 가정\n",
        "\n",
        "start_time = time.time()\n",
        "\n",
        "i = 0\n",
        "\n",
        "for index in I[input_product]:\n",
        "  if i == 0: #처음 인덱스는 자기 자신이므로 제외한다\n",
        "    i += 1\n",
        "    continue\n",
        "  print(df[\"제품명\"].iloc[index])\n",
        "  print(df[\"가격\"].iloc[index])\n",
        "  print(df[\"상세주소\"].iloc[index])\n",
        "\n",
        "  plt.imshow(img_list[index])\n",
        "  plt.axis('off')  # 축 제거\n",
        "  plt.show()\n",
        "  i += 1\n",
        "\n",
        "end_time = time.time()\n",
        "\n",
        "# 소요 시간 계산\n",
        "elapsed_time = end_time - start_time\n",
        "print(f\"총 연산 시간: {elapsed_time:.6f} seconds\")\n",
        "print(f\"총 추천 제품 개수: {i-1}개\")\n",
        "\n"
      ],
      "metadata": {
        "id": "sjqsw3rnoV1Y"
      },
      "execution_count": null,
      "outputs": []
    },
    {
      "cell_type": "code",
      "source": [],
      "metadata": {
        "id": "gHiAZNtGn8l8"
      },
      "execution_count": null,
      "outputs": []
    }
  ],
  "metadata": {
    "colab": {
      "provenance": [],
      "mount_file_id": "1H8kd_xYq_QI0N7AVcGJKAP9v3-fFq3Gb",
      "authorship_tag": "ABX9TyPlhVfTZAXDMuvAv8BkPp7H",
      "include_colab_link": true
    },
    "kernelspec": {
      "display_name": "Python 3",
      "name": "python3"
    },
    "language_info": {
      "name": "python"
    }
  },
  "nbformat": 4,
  "nbformat_minor": 0
}