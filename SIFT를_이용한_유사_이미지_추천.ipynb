{
  "nbformat": 4,
  "nbformat_minor": 0,
  "metadata": {
    "colab": {
      "provenance": [],
      "mount_file_id": "1Iwu0FmvoVXbtHbkVpOkJ1EhpqsoFgbfw",
      "authorship_tag": "ABX9TyOJ3ONk6px7G8HncaNCIcBF",
      "include_colab_link": true
    },
    "kernelspec": {
      "name": "python3",
      "display_name": "Python 3"
    },
    "language_info": {
      "name": "python"
    }
  },
  "cells": [
    {
      "cell_type": "markdown",
      "metadata": {
        "id": "view-in-github",
        "colab_type": "text"
      },
      "source": [
        "<a href=\"https://colab.research.google.com/github/pdh0184/Celine_project/blob/main/SIFT%EB%A5%BC_%EC%9D%B4%EC%9A%A9%ED%95%9C_%EC%9C%A0%EC%82%AC_%EC%9D%B4%EB%AF%B8%EC%A7%80_%EC%B6%94%EC%B2%9C.ipynb\" target=\"_parent\"><img src=\"https://colab.research.google.com/assets/colab-badge.svg\" alt=\"Open In Colab\"/></a>"
      ]
    },
    {
      "cell_type": "code",
      "source": [
        "!pip install faiss-gpu"
      ],
      "metadata": {
        "id": "pfFPirf81TUr"
      },
      "execution_count": null,
      "outputs": []
    },
    {
      "cell_type": "code",
      "execution_count": null,
      "metadata": {
        "id": "9zl1W93I0-nF"
      },
      "outputs": [],
      "source": [
        "import pandas as pd\n",
        "import base64\n",
        "from PIL import Image\n",
        "from io import BytesIO\n",
        "import numpy as np\n",
        "import cv2\n",
        "import matplotlib.pyplot as plt\n",
        "from google.colab.patches import cv2_imshow  # Colab에서 cv2.imshow() 대신 사용\n",
        "\n",
        "df = pd.read_csv('/content/drive/MyDrive/개인 프로젝트 파일/Celine_project/CELINE_DATA.csv')\n",
        "df.head()"
      ]
    },
    {
      "cell_type": "code",
      "source": [
        "\n",
        "sift = cv2.SIFT_create()\n",
        "img_list = []\n",
        "features_list = []\n",
        "\n",
        "for index, row in df.iterrows():\n",
        "  try:\n",
        "    image_str64 = row['이미지 데이터']\n",
        "    image_data = base64.b64decode(image_str64)\n",
        "\n",
        "    # 바이너리 데이터를 이미지로 변환\n",
        "    img = np.array(Image.open(BytesIO(image_data)))\n",
        "    img_list.append(img)\n",
        "    img = cv2.cvtColor(img, cv2.COLOR_RGB2BGR)\n",
        "    img = cv2.cvtColor(img,cv2.COLOR_BGR2GRAY)\n",
        "\n",
        "    keypoint , description = sift.detectAndCompute(img,None)\n",
        "    features_list.append(description)\n",
        "  except Exception as e:\n",
        "    print(f\"Error processing row {index}: {e}\")\n",
        "    features_list.append(np.zeros((128,128)))\n"
      ],
      "metadata": {
        "id": "bxHAQKBK1MoA"
      },
      "execution_count": null,
      "outputs": []
    },
    {
      "cell_type": "code",
      "source": [
        "print(features_list[0].shape)\n",
        "print(features_list[1].shape)\n",
        "print(features_list[42].shape)\n"
      ],
      "metadata": {
        "id": "UQ-w2L-j1OYR"
      },
      "execution_count": null,
      "outputs": []
    },
    {
      "cell_type": "code",
      "source": [
        "print(features_list[0].shape)\n",
        "print(features_list[1].shape)\n",
        "print(features_list[42].shape)\n"
      ],
      "metadata": {
        "id": "QzRxstCF1Pjx"
      },
      "execution_count": null,
      "outputs": []
    },
    {
      "cell_type": "code",
      "source": [
        "features_list = [np.mean(desc, axis=0) for desc in features_list if desc is not None]\n",
        "\n",
        "features_array = np.array(features_list, dtype='float32')"
      ],
      "metadata": {
        "id": "V5kZnvQF19Gk"
      },
      "execution_count": null,
      "outputs": []
    },
    {
      "cell_type": "code",
      "source": [
        "import faiss\n",
        "\n",
        "index = faiss.IndexFlatL2(features_array.shape[1])  # 128차원 L2 거리 기반\n",
        "index.add(features_array)  # 이미지 벡터 추가\n",
        "\n",
        "# 이미지 간 유사도 계산\n",
        "D, I = index.search(features_array, k=11)  # 각 이미지에 대해 가장 유사한 5개 검색\n",
        "print(\"Distances:\", D)\n",
        "print(\"Indices:\", I)\n"
      ],
      "metadata": {
        "id": "3vrhvCZh1X9y"
      },
      "execution_count": null,
      "outputs": []
    },
    {
      "cell_type": "code",
      "source": [
        "import time\n",
        "\n",
        "input_product = int(input(\"제품 번호 입력\") )#원하는 이미지 선택 시 해당 되는 인덱스 번호가 있다고 가정\n",
        "\n",
        "start_time = time.time()\n",
        "\n",
        "i = 0\n",
        "\n",
        "for index in I[input_product]:\n",
        "  if i == 0: #처음 인덱스는 자기 자신이므로 제외한다\n",
        "    i += 1\n",
        "    continue\n",
        "  print(df[\"제품명\"].iloc[index])\n",
        "  print(df[\"가격\"].iloc[index])\n",
        "  print(df[\"상세주소\"].iloc[index])\n",
        "\n",
        "  plt.imshow(img_list[index])\n",
        "  plt.axis('off')  # 축 제거\n",
        "  plt.show()\n",
        "  i += 1\n",
        "\n",
        "end_time = time.time()\n",
        "\n",
        "# 소요 시간 계산\n",
        "elapsed_time = end_time - start_time\n",
        "print(f\"총 연산 시간: {elapsed_time:.6f} seconds\")\n",
        "print(f\"총 추천 제품 개수: {i-1}개\")\n",
        "\n"
      ],
      "metadata": {
        "id": "L2X8Ehvb1cIU"
      },
      "execution_count": null,
      "outputs": []
    },
    {
      "cell_type": "code",
      "source": [],
      "metadata": {
        "id": "v6Ci5Tdo4AE8"
      },
      "execution_count": null,
      "outputs": []
    }
  ]
}